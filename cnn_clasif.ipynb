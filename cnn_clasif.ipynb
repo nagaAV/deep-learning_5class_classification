{
 "cells": [
  {
   "cell_type": "code",
   "execution_count": 1,
   "metadata": {},
   "outputs": [
    {
     "name": "stderr",
     "output_type": "stream",
     "text": [
      "Using TensorFlow backend.\n"
     ]
    }
   ],
   "source": [
    "import glob\n",
    "import numpy as np\n",
    "import matplotlib.pyplot as plt\n",
    "from keras.preprocessing.image import load_img, img_to_array, array_to_img\n",
    "from keras.models import load_model\n",
    "import model_evaluation_utils as meu\n",
    "\n",
    "%matplotlib inline"
   ]
  },
  {
   "cell_type": "code",
   "execution_count": 2,
   "metadata": {},
   "outputs": [],
   "source": [
    "import os \n",
    "import cv2\n",
    "import seaborn as sns\n",
    "import numpy as np\n",
    "import pandas as pd"
   ]
  },
  {
   "cell_type": "code",
   "execution_count": 3,
   "metadata": {},
   "outputs": [
    {
     "data": {
      "text/html": [
       "<div>\n",
       "<style scoped>\n",
       "    .dataframe tbody tr th:only-of-type {\n",
       "        vertical-align: middle;\n",
       "    }\n",
       "\n",
       "    .dataframe tbody tr th {\n",
       "        vertical-align: top;\n",
       "    }\n",
       "\n",
       "    .dataframe thead th {\n",
       "        text-align: right;\n",
       "    }\n",
       "</style>\n",
       "<table border=\"1\" class=\"dataframe\">\n",
       "  <thead>\n",
       "    <tr style=\"text-align: right;\">\n",
       "      <th></th>\n",
       "      <th>image</th>\n",
       "      <th>category</th>\n",
       "    </tr>\n",
       "  </thead>\n",
       "  <tbody>\n",
       "    <tr>\n",
       "      <th>0</th>\n",
       "      <td>2823080.jpg</td>\n",
       "      <td>1</td>\n",
       "    </tr>\n",
       "    <tr>\n",
       "      <th>1</th>\n",
       "      <td>2870024.jpg</td>\n",
       "      <td>1</td>\n",
       "    </tr>\n",
       "    <tr>\n",
       "      <th>2</th>\n",
       "      <td>2662125.jpg</td>\n",
       "      <td>2</td>\n",
       "    </tr>\n",
       "    <tr>\n",
       "      <th>3</th>\n",
       "      <td>2900420.jpg</td>\n",
       "      <td>3</td>\n",
       "    </tr>\n",
       "    <tr>\n",
       "      <th>4</th>\n",
       "      <td>2804883.jpg</td>\n",
       "      <td>2</td>\n",
       "    </tr>\n",
       "  </tbody>\n",
       "</table>\n",
       "</div>"
      ],
      "text/plain": [
       "         image  category\n",
       "0  2823080.jpg         1\n",
       "1  2870024.jpg         1\n",
       "2  2662125.jpg         2\n",
       "3  2900420.jpg         3\n",
       "4  2804883.jpg         2"
      ]
     },
     "execution_count": 3,
     "metadata": {},
     "output_type": "execute_result"
    }
   ],
   "source": [
    "data = pd.read_csv('E:/hackathon DL with CV\\hands-on-transfer-learning-with-python-master/hands-on-transfer-learning-with-python-master/notebooks/Ch05 - Unleash the Power of Transfer Learning/train/train.csv')\n",
    "data.head()"
   ]
  },
  {
   "cell_type": "code",
   "execution_count": 4,
   "metadata": {},
   "outputs": [
    {
     "data": {
      "text/html": [
       "<div>\n",
       "<style scoped>\n",
       "    .dataframe tbody tr th:only-of-type {\n",
       "        vertical-align: middle;\n",
       "    }\n",
       "\n",
       "    .dataframe tbody tr th {\n",
       "        vertical-align: top;\n",
       "    }\n",
       "\n",
       "    .dataframe thead th {\n",
       "        text-align: right;\n",
       "    }\n",
       "</style>\n",
       "<table border=\"1\" class=\"dataframe\">\n",
       "  <thead>\n",
       "    <tr style=\"text-align: right;\">\n",
       "      <th></th>\n",
       "      <th>image</th>\n",
       "    </tr>\n",
       "    <tr>\n",
       "      <th>category</th>\n",
       "      <th></th>\n",
       "    </tr>\n",
       "  </thead>\n",
       "  <tbody>\n",
       "    <tr>\n",
       "      <th>1</th>\n",
       "      <td>2120</td>\n",
       "    </tr>\n",
       "    <tr>\n",
       "      <th>2</th>\n",
       "      <td>1167</td>\n",
       "    </tr>\n",
       "    <tr>\n",
       "      <th>3</th>\n",
       "      <td>916</td>\n",
       "    </tr>\n",
       "    <tr>\n",
       "      <th>4</th>\n",
       "      <td>832</td>\n",
       "    </tr>\n",
       "    <tr>\n",
       "      <th>5</th>\n",
       "      <td>1217</td>\n",
       "    </tr>\n",
       "  </tbody>\n",
       "</table>\n",
       "</div>"
      ],
      "text/plain": [
       "          image\n",
       "category       \n",
       "1          2120\n",
       "2          1167\n",
       "3           916\n",
       "4           832\n",
       "5          1217"
      ]
     },
     "execution_count": 4,
     "metadata": {},
     "output_type": "execute_result"
    }
   ],
   "source": [
    "data.groupby('category').count()"
   ]
  },
  {
   "cell_type": "code",
   "execution_count": 5,
   "metadata": {},
   "outputs": [
    {
     "data": {
      "text/plain": [
       "<matplotlib.axes._subplots.AxesSubplot at 0x1e4c000ce10>"
      ]
     },
     "execution_count": 5,
     "metadata": {},
     "output_type": "execute_result"
    },
    {
     "data": {
      "image/png": "[encoded data removed]",
      "text/plain": [
       "<Figure size 432x288 with 1 Axes>"
      ]
     },
     "metadata": {
      "needs_background": "light"
     },
     "output_type": "display_data"
    }
   ],
   "source": [
    "sns.countplot(x='category', data= data)"
   ]
  },
  {
   "cell_type": "code",
   "execution_count": 6,
   "metadata": {},
   "outputs": [],
   "source": [
    "category = {1: 'Cargo', 2: 'Military', 3: 'Carrier', 4: 'Cruise', 5: 'Tankers'}\n",
    "data['categorys'] = data['category'].map(category)"
   ]
  },
  {
   "cell_type": "code",
   "execution_count": 7,
   "metadata": {},
   "outputs": [
    {
     "data": {
      "text/html": [
       "<div>\n",
       "<style scoped>\n",
       "    .dataframe tbody tr th:only-of-type {\n",
       "        vertical-align: middle;\n",
       "    }\n",
       "\n",
       "    .dataframe tbody tr th {\n",
       "        vertical-align: top;\n",
       "    }\n",
       "\n",
       "    .dataframe thead th {\n",
       "        text-align: right;\n",
       "    }\n",
       "</style>\n",
       "<table border=\"1\" class=\"dataframe\">\n",
       "  <thead>\n",
       "    <tr style=\"text-align: right;\">\n",
       "      <th></th>\n",
       "      <th>image</th>\n",
       "      <th>category</th>\n",
       "      <th>categorys</th>\n",
       "    </tr>\n",
       "  </thead>\n",
       "  <tbody>\n",
       "    <tr>\n",
       "      <th>0</th>\n",
       "      <td>2823080.jpg</td>\n",
       "      <td>1</td>\n",
       "      <td>Cargo</td>\n",
       "    </tr>\n",
       "    <tr>\n",
       "      <th>1</th>\n",
       "      <td>2870024.jpg</td>\n",
       "      <td>1</td>\n",
       "      <td>Cargo</td>\n",
       "    </tr>\n",
       "    <tr>\n",
       "      <th>2</th>\n",
       "      <td>2662125.jpg</td>\n",
       "      <td>2</td>\n",
       "      <td>Military</td>\n",
       "    </tr>\n",
       "    <tr>\n",
       "      <th>3</th>\n",
       "      <td>2900420.jpg</td>\n",
       "      <td>3</td>\n",
       "      <td>Carrier</td>\n",
       "    </tr>\n",
       "    <tr>\n",
       "      <th>4</th>\n",
       "      <td>2804883.jpg</td>\n",
       "      <td>2</td>\n",
       "      <td>Military</td>\n",
       "    </tr>\n",
       "  </tbody>\n",
       "</table>\n",
       "</div>"
      ],
      "text/plain": [
       "         image  category categorys\n",
       "0  2823080.jpg         1     Cargo\n",
       "1  2870024.jpg         1     Cargo\n",
       "2  2662125.jpg         2  Military\n",
       "3  2900420.jpg         3   Carrier\n",
       "4  2804883.jpg         2  Military"
      ]
     },
     "execution_count": 7,
     "metadata": {},
     "output_type": "execute_result"
    }
   ],
   "source": [
    "data.head()"
   ]
  },
  {
   "cell_type": "code",
   "execution_count": 8,
   "metadata": {},
   "outputs": [],
   "source": [
    "data['categorys']= data['categorys'].astype('category')"
   ]
  },
  {
   "cell_type": "code",
   "execution_count": 9,
   "metadata": {},
   "outputs": [],
   "source": [
    "data = data.drop(['category'],1)"
   ]
  },
  {
   "cell_type": "code",
   "execution_count": 10,
   "metadata": {},
   "outputs": [
    {
     "name": "stdout",
     "output_type": "stream",
     "text": [
      "5\n"
     ]
    },
    {
     "data": {
      "text/html": [
       "<div>\n",
       "<style scoped>\n",
       "    .dataframe tbody tr th:only-of-type {\n",
       "        vertical-align: middle;\n",
       "    }\n",
       "\n",
       "    .dataframe tbody tr th {\n",
       "        vertical-align: top;\n",
       "    }\n",
       "\n",
       "    .dataframe thead th {\n",
       "        text-align: right;\n",
       "    }\n",
       "</style>\n",
       "<table border=\"1\" class=\"dataframe\">\n",
       "  <thead>\n",
       "    <tr style=\"text-align: right;\">\n",
       "      <th></th>\n",
       "      <th>image</th>\n",
       "      <th>categorys</th>\n",
       "    </tr>\n",
       "  </thead>\n",
       "  <tbody>\n",
       "    <tr>\n",
       "      <th>0</th>\n",
       "      <td>2823080.jpg</td>\n",
       "      <td>Cargo</td>\n",
       "    </tr>\n",
       "    <tr>\n",
       "      <th>1</th>\n",
       "      <td>2870024.jpg</td>\n",
       "      <td>Cargo</td>\n",
       "    </tr>\n",
       "    <tr>\n",
       "      <th>2</th>\n",
       "      <td>2662125.jpg</td>\n",
       "      <td>Military</td>\n",
       "    </tr>\n",
       "    <tr>\n",
       "      <th>3</th>\n",
       "      <td>2900420.jpg</td>\n",
       "      <td>Carrier</td>\n",
       "    </tr>\n",
       "    <tr>\n",
       "      <th>4</th>\n",
       "      <td>2804883.jpg</td>\n",
       "      <td>Military</td>\n",
       "    </tr>\n",
       "  </tbody>\n",
       "</table>\n",
       "</div>"
      ],
      "text/plain": [
       "         image categorys\n",
       "0  2823080.jpg     Cargo\n",
       "1  2870024.jpg     Cargo\n",
       "2  2662125.jpg  Military\n",
       "3  2900420.jpg   Carrier\n",
       "4  2804883.jpg  Military"
      ]
     },
     "execution_count": 10,
     "metadata": {},
     "output_type": "execute_result"
    }
   ],
   "source": [
    "target = data['categorys']\n",
    "print(len(set(target)))\n",
    "data.head()"
   ]
  },
  {
   "cell_type": "code",
   "execution_count": 11,
   "metadata": {},
   "outputs": [
    {
     "name": "stdout",
     "output_type": "stream",
     "text": [
      "(6252, 5)\n",
      "[[1 0 0 0 0]\n",
      " [1 0 0 0 0]\n",
      " [0 0 0 1 0]\n",
      " [0 1 0 0 0]\n",
      " [0 0 0 1 0]]\n"
     ]
    }
   ],
   "source": [
    "labels_ohe_names = pd.get_dummies(target, sparse=True)\n",
    "labels_ohe = np.asarray(labels_ohe_names)\n",
    "print(labels_ohe.shape)\n",
    "print(labels_ohe[:5])"
   ]
  },
  {
   "cell_type": "code",
   "execution_count": 12,
   "metadata": {},
   "outputs": [
    {
     "data": {
      "text/html": [
       "<div>\n",
       "<style scoped>\n",
       "    .dataframe tbody tr th:only-of-type {\n",
       "        vertical-align: middle;\n",
       "    }\n",
       "\n",
       "    .dataframe tbody tr th {\n",
       "        vertical-align: top;\n",
       "    }\n",
       "\n",
       "    .dataframe thead th {\n",
       "        text-align: right;\n",
       "    }\n",
       "</style>\n",
       "<table border=\"1\" class=\"dataframe\">\n",
       "  <thead>\n",
       "    <tr style=\"text-align: right;\">\n",
       "      <th></th>\n",
       "      <th>image</th>\n",
       "      <th>categorys</th>\n",
       "      <th>image_path</th>\n",
       "    </tr>\n",
       "  </thead>\n",
       "  <tbody>\n",
       "    <tr>\n",
       "      <th>0</th>\n",
       "      <td>2823080.jpg</td>\n",
       "      <td>Cargo</td>\n",
       "      <td>E:/hackathon DL with CV/hands-on-transfer-lear...</td>\n",
       "    </tr>\n",
       "    <tr>\n",
       "      <th>1</th>\n",
       "      <td>2870024.jpg</td>\n",
       "      <td>Cargo</td>\n",
       "      <td>E:/hackathon DL with CV/hands-on-transfer-lear...</td>\n",
       "    </tr>\n",
       "    <tr>\n",
       "      <th>2</th>\n",
       "      <td>2662125.jpg</td>\n",
       "      <td>Military</td>\n",
       "      <td>E:/hackathon DL with CV/hands-on-transfer-lear...</td>\n",
       "    </tr>\n",
       "    <tr>\n",
       "      <th>3</th>\n",
       "      <td>2900420.jpg</td>\n",
       "      <td>Carrier</td>\n",
       "      <td>E:/hackathon DL with CV/hands-on-transfer-lear...</td>\n",
       "    </tr>\n",
       "    <tr>\n",
       "      <th>4</th>\n",
       "      <td>2804883.jpg</td>\n",
       "      <td>Military</td>\n",
       "      <td>E:/hackathon DL with CV/hands-on-transfer-lear...</td>\n",
       "    </tr>\n",
       "  </tbody>\n",
       "</table>\n",
       "</div>"
      ],
      "text/plain": [
       "         image categorys                                         image_path\n",
       "0  2823080.jpg     Cargo  E:/hackathon DL with CV/hands-on-transfer-lear...\n",
       "1  2870024.jpg     Cargo  E:/hackathon DL with CV/hands-on-transfer-lear...\n",
       "2  2662125.jpg  Military  E:/hackathon DL with CV/hands-on-transfer-lear...\n",
       "3  2900420.jpg   Carrier  E:/hackathon DL with CV/hands-on-transfer-lear...\n",
       "4  2804883.jpg  Military  E:/hackathon DL with CV/hands-on-transfer-lear..."
      ]
     },
     "execution_count": 12,
     "metadata": {},
     "output_type": "execute_result"
    }
   ],
   "source": [
    "train_folder = 'E:/hackathon DL with CV/hands-on-transfer-learning-with-python-master/hands-on-transfer-learning-with-python-master/notebooks/Ch05 - Unleash the Power of Transfer Learning/train/images/'\n",
    "data['image_path'] = data.apply(lambda row: (train_folder + row[\"image\"]), axis=1)\n",
    "data.head()"
   ]
  },
  {
   "cell_type": "code",
   "execution_count": 13,
   "metadata": {},
   "outputs": [],
   "source": [
    "from sklearn.model_selection import train_test_split\n",
    "from keras.preprocessing.image import img_to_array, load_img\n",
    "\n",
    "# load dataset\n",
    "train_data = np.array([img_to_array(load_img(img, target_size=(150, 150)))\n",
    "                           for img in data['image_path'].values.tolist()\n",
    "                      ]).astype('float16')"
   ]
  },
  {
   "cell_type": "code",
   "execution_count": 14,
   "metadata": {},
   "outputs": [],
   "source": [
    "# create train and test datasets\n",
    "x_train, x_test, y_train, y_test = train_test_split(train_data, target, \n",
    "                                                    test_size=0.3, \n",
    "                                                    stratify=np.array(target), \n",
    "                                                    random_state=42)"
   ]
  },
  {
   "cell_type": "code",
   "execution_count": 15,
   "metadata": {},
   "outputs": [],
   "source": [
    "# create train and validation datasets\n",
    "x_train, x_val, y_train, y_val = train_test_split(x_train, y_train, \n",
    "                                                  test_size=0.15, \n",
    "                                                  stratify=np.array(y_train), \n",
    "                                                  random_state=42)"
   ]
  },
  {
   "cell_type": "code",
   "execution_count": 16,
   "metadata": {},
   "outputs": [
    {
     "name": "stdout",
     "output_type": "stream",
     "text": [
      "Initial Dataset Size: (6252, 150, 150, 3)\n",
      "Initial Train and Test Datasets Size: (3719, 150, 150, 3) (1876, 150, 150, 3)\n",
      "Train and Validation Datasets Size: (3719, 150, 150, 3) (657, 150, 150, 3)\n",
      "Train, Test and Validation Datasets Size: (3719, 150, 150, 3) (1876, 150, 150, 3) (657, 150, 150, 3)\n"
     ]
    }
   ],
   "source": [
    "print('Initial Dataset Size:', train_data.shape)\n",
    "print('Initial Train and Test Datasets Size:', x_train.shape, x_test.shape)\n",
    "print('Train and Validation Datasets Size:', x_train.shape, x_val.shape)\n",
    "print('Train, Test and Validation Datasets Size:', x_train.shape, x_test.shape, x_val.shape)"
   ]
  },
  {
   "cell_type": "code",
   "execution_count": 17,
   "metadata": {},
   "outputs": [
    {
     "data": {
      "text/plain": [
       "((3719, 5), (1876, 5), (657, 5))"
      ]
     },
     "execution_count": 17,
     "metadata": {},
     "output_type": "execute_result"
    }
   ],
   "source": [
    "# converting to one hotencoding\n",
    "y_train_ohe = pd.get_dummies(y_train.reset_index(drop=True)).values\n",
    "y_val_ohe = pd.get_dummies(y_val.reset_index(drop=True)).values\n",
    "y_test_ohe = pd.get_dummies(y_test.reset_index(drop=True)).values\n",
    "\n",
    "y_train_ohe.shape, y_test_ohe.shape, y_val_ohe.shape"
   ]
  },
  {
   "cell_type": "code",
   "execution_count": 18,
   "metadata": {},
   "outputs": [],
   "source": [
    "from keras.preprocessing.image import ImageDataGenerator\n",
    "BATCH_SIZE = 64\n",
    "\n",
    "# Create train generator.\n",
    "train_datagen = ImageDataGenerator(rescale=1./255, \n",
    "                                   rotation_range=30, \n",
    "                                   width_shift_range=0.2,\n",
    "                                   height_shift_range=0.2,\n",
    "                                   shear_range=0.2,\n",
    "                                   zoom_range=0.2,\n",
    "                                   horizontal_flip = True,\n",
    "                                   fill_mode='nearest')  # 'nearest' is kind of algorithm to fill pixel values while transformation\n",
    "train_generator = train_datagen.flow(x_train, y_train_ohe, shuffle=True, \n",
    "                                     batch_size=BATCH_SIZE, seed=123)\n",
    "                                     \n",
    " "
   ]
  },
  {
   "cell_type": "code",
   "execution_count": 19,
   "metadata": {},
   "outputs": [],
   "source": [
    "# Create validation generator\n",
    "val_datagen = ImageDataGenerator(rescale = 1./255)\n",
    "val_generator = train_datagen.flow(x_val, y_val_ohe, shuffle=True, \n",
    "                                   batch_size=BATCH_SIZE, seed=123)   "
   ]
  },
  {
   "cell_type": "code",
   "execution_count": null,
   "metadata": {},
   "outputs": [],
   "source": []
  },
  {
   "cell_type": "code",
   "execution_count": 20,
   "metadata": {},
   "outputs": [],
   "source": [
    "from keras.models import Model\n",
    "from keras.optimizers import Adam\n",
    "from keras.layers import GlobalAveragePooling2D\n",
    "from keras.layers import Dense\n",
    "from keras.applications.inception_v3 import InceptionV3\n",
    "from keras.utils.np_utils import to_categorical"
   ]
  },
  {
   "cell_type": "code",
   "execution_count": 21,
   "metadata": {},
   "outputs": [],
   "source": [
    "# Get the InceptionV3 model so we can do transfer learning\n",
    "base_inception = InceptionV3(weights='imagenet', include_top=False, \n",
    "                             input_shape=(150, 150, 3))\n",
    "                             \n",
    "# Add a global spatial average pooling layer\n",
    "x = base_inception.output\n",
    "x = GlobalAveragePooling2D()(x)\n",
    "total_classes = y_train_ohe.shape[1]\n",
    "predictions = Dense(total_classes, activation='softmax')(x)\n",
    "\n",
    "model = Model(inputs=base_inception.input, outputs=predictions)\n",
    "\n",
    "# only if we want to freeze layers\n",
    "for layer in base_inception.layers:\n",
    "    layer.trainable = True"
   ]
  },
  {
   "cell_type": "code",
   "execution_count": 22,
   "metadata": {},
   "outputs": [],
   "source": [
    "# Compile \n",
    "model.compile(Adam(lr=.0001), loss='categorical_crossentropy', metrics=['accuracy']) "
   ]
  },
  {
   "cell_type": "code",
   "execution_count": 23,
   "metadata": {},
   "outputs": [
    {
     "name": "stdout",
     "output_type": "stream",
     "text": [
      "Epoch 1/10\n",
      "58/58 [==============================] - 49s 847ms/step - loss: 0.9398 - acc: 0.6316 - val_loss: 0.6201 - val_acc: 0.7797\n",
      "Epoch 2/10\n",
      "58/58 [==============================] - 30s 525ms/step - loss: 0.4927 - acc: 0.8138 - val_loss: 0.4866 - val_acc: 0.8246\n",
      "Epoch 3/10\n",
      "58/58 [==============================] - 30s 523ms/step - loss: 0.3804 - acc: 0.8575 - val_loss: 0.4047 - val_acc: 0.8381\n",
      "Epoch 4/10\n",
      "58/58 [==============================] - 30s 520ms/step - loss: 0.3325 - acc: 0.8642 - val_loss: 0.4030 - val_acc: 0.8516\n",
      "Epoch 5/10\n",
      "58/58 [==============================] - 31s 531ms/step - loss: 0.2509 - acc: 0.9087 - val_loss: 0.4264 - val_acc: 0.8432\n",
      "Epoch 6/10\n",
      "58/58 [==============================] - 30s 522ms/step - loss: 0.2033 - acc: 0.9272 - val_loss: 0.4708 - val_acc: 0.8398\n",
      "Epoch 7/10\n",
      "58/58 [==============================] - 30s 519ms/step - loss: 0.1878 - acc: 0.9299 - val_loss: 0.4156 - val_acc: 0.8718\n",
      "Epoch 8/10\n",
      "58/58 [==============================] - 30s 516ms/step - loss: 0.1692 - acc: 0.9369 - val_loss: 0.3569 - val_acc: 0.8820\n",
      "Epoch 9/10\n",
      "58/58 [==============================] - 30s 513ms/step - loss: 0.1464 - acc: 0.9483 - val_loss: 0.4249 - val_acc: 0.8752\n",
      "Epoch 10/10\n",
      "58/58 [==============================] - 30s 511ms/step - loss: 0.1266 - acc: 0.9526 - val_loss: 0.3340 - val_acc: 0.8870\n"
     ]
    }
   ],
   "source": [
    "# Train the model\n",
    "batch_size = BATCH_SIZE\n",
    "train_steps_per_epoch = x_train.shape[0] // batch_size\n",
    "val_steps_per_epoch = x_val.shape[0] // batch_size\n",
    "\n",
    "history = model.fit_generator(train_generator,\n",
    "                              steps_per_epoch=train_steps_per_epoch,\n",
    "                              validation_data=val_generator,\n",
    "                              validation_steps=val_steps_per_epoch,\n",
    "                              epochs=10, verbose=1)"
   ]
  },
  {
   "cell_type": "code",
   "execution_count": 24,
   "metadata": {},
   "outputs": [
    {
     "data": {
      "image/png": "[encoded data removed]",
      "text/plain": [
       "<Figure size 864x288 with 2 Axes>"
      ]
     },
     "metadata": {
      "needs_background": "light"
     },
     "output_type": "display_data"
    }
   ],
   "source": [
    "f, (ax1, ax2) = plt.subplots(1, 2, figsize=(12, 4))\n",
    "t = f.suptitle('Deep Neural Network Performance', fontsize=12)\n",
    "f.subplots_adjust(top=0.85, wspace=0.3)\n",
    "\n",
    "epoch_list = list(range(1,11))\n",
    "ax1.plot(epoch_list, history.history['acc'], label='Train Accuracy')\n",
    "ax1.plot(epoch_list, history.history['val_acc'], label='Validation Accuracy')\n",
    "ax1.set_xticks(np.arange(0, 11, 1))\n",
    "ax1.set_ylabel('Accuracy Value')\n",
    "ax1.set_xlabel('Epoch')\n",
    "ax1.set_title('Accuracy')\n",
    "l1 = ax1.legend(loc=\"best\")\n",
    "\n",
    "ax2.plot(epoch_list, history.history['loss'], label='Train Loss')\n",
    "ax2.plot(epoch_list, history.history['val_loss'], label='Validation Loss')\n",
    "ax2.set_xticks(np.arange(0, 11, 1))\n",
    "ax2.set_ylabel('Loss Value')\n",
    "ax2.set_xlabel('Epoch')\n",
    "ax2.set_title('Loss')\n",
    "l2 = ax2.legend(loc=\"best\")"
   ]
  },
  {
   "cell_type": "code",
   "execution_count": null,
   "metadata": {},
   "outputs": [],
   "source": []
  },
  {
   "cell_type": "code",
   "execution_count": 25,
   "metadata": {},
   "outputs": [
    {
     "data": {
      "text/plain": [
       "array([[1.5234458e-04, 1.9493800e-07, 3.4216355e-06, 9.9984372e-01,\n",
       "        2.9717808e-07],\n",
       "       [9.9944359e-01, 1.0099004e-04, 2.4199937e-05, 1.1843713e-05,\n",
       "        4.1938105e-04],\n",
       "       [1.2623225e-07, 9.9994373e-01, 9.4274119e-06, 3.7344569e-05,\n",
       "        9.3853041e-06],\n",
       "       ...,\n",
       "       [1.5831864e-02, 2.0685882e-04, 6.9330875e-03, 9.6192980e-01,\n",
       "        1.5098364e-02],\n",
       "       [9.8674715e-01, 8.6349821e-05, 1.4466887e-04, 1.2632548e-04,\n",
       "        1.2895483e-02],\n",
       "       [3.7348182e-06, 1.7084247e-06, 9.9998844e-01, 5.3411268e-06,\n",
       "        6.7114456e-07]], dtype=float32)"
      ]
     },
     "execution_count": 25,
     "metadata": {},
     "output_type": "execute_result"
    }
   ],
   "source": [
    "# scaling test features\n",
    "x_test /= 255.\n",
    "\n",
    "# getting model predictions\n",
    "test_predictions = model.predict(x_test)\n",
    "test_predictions"
   ]
  },
  {
   "cell_type": "code",
   "execution_count": 26,
   "metadata": {},
   "outputs": [
    {
     "data": {
      "text/html": [
       "<div>\n",
       "<style scoped>\n",
       "    .dataframe tbody tr th:only-of-type {\n",
       "        vertical-align: middle;\n",
       "    }\n",
       "\n",
       "    .dataframe tbody tr th {\n",
       "        vertical-align: top;\n",
       "    }\n",
       "\n",
       "    .dataframe thead th {\n",
       "        text-align: right;\n",
       "    }\n",
       "</style>\n",
       "<table border=\"1\" class=\"dataframe\">\n",
       "  <thead>\n",
       "    <tr style=\"text-align: right;\">\n",
       "      <th></th>\n",
       "      <th>Cargo</th>\n",
       "      <th>Carrier</th>\n",
       "      <th>Cruise</th>\n",
       "      <th>Military</th>\n",
       "      <th>Tankers</th>\n",
       "    </tr>\n",
       "  </thead>\n",
       "  <tbody>\n",
       "    <tr>\n",
       "      <th>0</th>\n",
       "      <td>1.523446e-04</td>\n",
       "      <td>1.949380e-07</td>\n",
       "      <td>3.421635e-06</td>\n",
       "      <td>0.999844</td>\n",
       "      <td>2.971781e-07</td>\n",
       "    </tr>\n",
       "    <tr>\n",
       "      <th>1</th>\n",
       "      <td>9.994436e-01</td>\n",
       "      <td>1.009900e-04</td>\n",
       "      <td>2.419994e-05</td>\n",
       "      <td>0.000012</td>\n",
       "      <td>4.193810e-04</td>\n",
       "    </tr>\n",
       "    <tr>\n",
       "      <th>2</th>\n",
       "      <td>1.262323e-07</td>\n",
       "      <td>9.999437e-01</td>\n",
       "      <td>9.427412e-06</td>\n",
       "      <td>0.000037</td>\n",
       "      <td>9.385304e-06</td>\n",
       "    </tr>\n",
       "    <tr>\n",
       "      <th>3</th>\n",
       "      <td>3.480570e-01</td>\n",
       "      <td>6.495880e-02</td>\n",
       "      <td>6.858033e-02</td>\n",
       "      <td>0.129389</td>\n",
       "      <td>3.890150e-01</td>\n",
       "    </tr>\n",
       "    <tr>\n",
       "      <th>4</th>\n",
       "      <td>9.998868e-01</td>\n",
       "      <td>3.398173e-06</td>\n",
       "      <td>5.774148e-07</td>\n",
       "      <td>0.000002</td>\n",
       "      <td>1.067528e-04</td>\n",
       "    </tr>\n",
       "  </tbody>\n",
       "</table>\n",
       "</div>"
      ],
      "text/plain": [
       "          Cargo       Carrier        Cruise  Military       Tankers\n",
       "0  1.523446e-04  1.949380e-07  3.421635e-06  0.999844  2.971781e-07\n",
       "1  9.994436e-01  1.009900e-04  2.419994e-05  0.000012  4.193810e-04\n",
       "2  1.262323e-07  9.999437e-01  9.427412e-06  0.000037  9.385304e-06\n",
       "3  3.480570e-01  6.495880e-02  6.858033e-02  0.129389  3.890150e-01\n",
       "4  9.998868e-01  3.398173e-06  5.774148e-07  0.000002  1.067528e-04"
      ]
     },
     "execution_count": 26,
     "metadata": {},
     "output_type": "execute_result"
    }
   ],
   "source": [
    "predictions = pd.DataFrame(test_predictions, columns=labels_ohe_names.columns)\n",
    "predictions.head()"
   ]
  },
  {
   "cell_type": "code",
   "execution_count": 27,
   "metadata": {},
   "outputs": [
    {
     "data": {
      "text/plain": [
       "['Military',\n",
       " 'Cargo',\n",
       " 'Carrier',\n",
       " 'Tankers',\n",
       " 'Cargo',\n",
       " 'Tankers',\n",
       " 'Cargo',\n",
       " 'Cruise',\n",
       " 'Cargo',\n",
       " 'Cargo']"
      ]
     },
     "execution_count": 27,
     "metadata": {},
     "output_type": "execute_result"
    }
   ],
   "source": [
    "test_labels = list(y_test)\n",
    "predictions = list(predictions.idxmax(axis=1))\n",
    "predictions[:10]"
   ]
  },
  {
   "cell_type": "code",
   "execution_count": 28,
   "metadata": {},
   "outputs": [
    {
     "name": "stdout",
     "output_type": "stream",
     "text": [
      "Accuracy: 0.9041\n",
      "Precision: 0.9051\n",
      "Recall: 0.9041\n",
      "F1 Score: 0.9043\n"
     ]
    }
   ],
   "source": [
    "# evaluate model performance\n",
    "meu.get_metrics(true_labels=test_labels, \n",
    "                predicted_labels=predictions)"
   ]
  },
  {
   "cell_type": "code",
   "execution_count": 29,
   "metadata": {},
   "outputs": [
    {
     "name": "stdout",
     "output_type": "stream",
     "text": [
      "              precision    recall  f1-score   support\n",
      "\n",
      "       Cargo       0.87      0.90      0.88       636\n",
      "     Carrier       0.97      0.96      0.96       275\n",
      "      Cruise       0.92      0.94      0.93       250\n",
      "    Military       0.98      0.93      0.95       350\n",
      "     Tankers       0.84      0.82      0.83       365\n",
      "\n",
      "    accuracy                           0.90      1876\n",
      "   macro avg       0.92      0.91      0.91      1876\n",
      "weighted avg       0.91      0.90      0.90      1876\n",
      "\n"
     ]
    }
   ],
   "source": [
    "meu.display_classification_report(true_labels=test_labels, \n",
    "                                  predicted_labels=predictions, \n",
    "                                  classes=list(labels_ohe_names.columns))"
   ]
  },
  {
   "cell_type": "code",
   "execution_count": null,
   "metadata": {},
   "outputs": [],
   "source": []
  }
 ],
 "metadata": {
  "kernelspec": {
   "display_name": "Ai-tensoflow-gpu",
   "language": "python",
   "name": "aienv"
  },
  "language_info": {
   "codemirror_mode": {
    "name": "ipython",
    "version": 3
   },
   "file_extension": ".py",
   "mimetype": "text/x-python",
   "name": "python",
   "nbconvert_exporter": "python",
   "pygments_lexer": "ipython3",
   "version": "3.6.8"
  }
 },
 "nbformat": 4,
 "nbformat_minor": 2
}
